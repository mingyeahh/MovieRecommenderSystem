{
 "cells": [
  {
   "cell_type": "code",
   "execution_count": 1,
   "id": "7cdf8bbf-669a-4061-aa38-c3b1cefdfa6a",
   "metadata": {},
   "outputs": [
    {
     "name": "stderr",
     "output_type": "stream",
     "text": [
      "/home/mingyue/.local/lib/python3.10/site-packages/tqdm/auto.py:22: TqdmWarning: IProgress not found. Please update jupyter and ipywidgets. See https://ipywidgets.readthedocs.io/en/stable/user_install.html\n",
      "  from .autonotebook import tqdm as notebook_tqdm\n"
     ]
    }
   ],
   "source": [
    "import numpy as np\n",
    "import pandas as pd\n",
    "\n",
    "import torch\n",
    "from torch.utils.data import DataLoader, Dataset\n",
    "import torch.nn as nn\n",
    "import torch.nn.functional as F\n",
    "\n",
    "from sklearn.model_selection import train_test_split\n",
    "device = torch.device(\"cuda\" if torch.cuda.is_available() else \"cpu\")"
   ]
  },
  {
   "cell_type": "code",
   "execution_count": 2,
   "id": "704acb06-624c-48cc-a7d0-4267f0bc3e8e",
   "metadata": {},
   "outputs": [
    {
     "name": "stdout",
     "output_type": "stream",
     "text": [
      "Using cuda device\n"
     ]
    }
   ],
   "source": [
    "print(f\"Using {device} device\")"
   ]
  },
  {
   "cell_type": "code",
   "execution_count": null,
   "id": "ae2742e5-9863-41b7-bb53-dcdcffadf1f5",
   "metadata": {},
   "outputs": [],
   "source": [
    "%run dataProcessing.ipynb"
   ]
  },
  {
   "cell_type": "code",
   "execution_count": null,
   "id": "7b2297bb-3a34-4ec2-86cf-23b2cddff74a",
   "metadata": {},
   "outputs": [],
   "source": [
    "train_df, test_df = train_test_split(dfr, test_size=0.3, random_state=42)"
   ]
  },
  {
   "cell_type": "code",
   "execution_count": null,
   "id": "e7b368c1-7825-47fc-9f58-fdbe8284e770",
   "metadata": {},
   "outputs": [],
   "source": [
    "# ---------------------------Reference-------------------\n",
    "# ----------- All implementation are based on the Pytorch tutorial by PyTorch official website: https://pytorch.org/tutorials/\n",
    "# ----------- The model Skeloton is based on the paper 'Neural Collaborative Filtering', https://arxiv.org/pdf/1708.05031.pdf\n",
    "\n",
    "\n",
    "# Define GMF model \n",
    "class GMF(nn.Module):\n",
    "    def __init__(self, n_userIds, n_movieIds, dims=10):\n",
    "        super().__init__()\n",
    "        self.User_Embedding = nn.Embedding(num_embeddings = n_userIds, embedding_dim = dims)\n",
    "        self.Movie_Embedding = nn.Embedding(num_embeddings = n_movieIds, embedding_dim = dims)\n",
    "        \n",
    "        self.linear_relu_stack = nn.Sequential(\n",
    "        nn.Linear(dims, 1),\n",
    "        nn.Sigmoid(),\n",
    "        )\n",
    "\n",
    "    def forward(self, u, m):\n",
    "        # Get user and movie embedding\n",
    "        u_embed = self.User_Embedding(u)\n",
    "        m_embed = self.User_Embedding(m)\n",
    "        \n",
    "        # Calculate the element-wise product of the input embeddings\n",
    "        x = torch.mul(u_embed, m_embed)\n",
    "        # Feed it to the pony ;) -> MLP\n",
    "        out = self.linear_relu_stack(x)\n",
    "        return out\n",
    "    \n",
    "# Set up model\n",
    "model = GMF(n_userIds, n_movieIds).to(device)\n",
    "print(model)"
   ]
  },
  {
   "cell_type": "code",
   "execution_count": null,
   "id": "127de6c8-9893-4f75-ac9f-d316b951061d",
   "metadata": {},
   "outputs": [],
   "source": [
    "# Dataset for the model building\n",
    "class MovieDataset(Dataset):\n",
    "    def __init__(self, df, n_u, n_m):\n",
    "        self.df = df\n",
    "        self.n_u = n_u\n",
    "        self.n_m = n_m\n",
    "\n",
    "    def __len__(self):\n",
    "        return len(self.df)\n",
    "\n",
    "    def __getitem__(self, idx):\n",
    "        x = self.df.iloc[idx,:].values\n",
    "        u, m, r = x[0], x[1], x[2]\n",
    "        r_scaled = (r-1)/9\n",
    "        return u, m, torch.tensor(r_scaled).float()"
   ]
  }
 ],
 "metadata": {
  "kernelspec": {
   "display_name": "Python 3 (ipykernel)",
   "language": "python",
   "name": "python3"
  },
  "language_info": {
   "codemirror_mode": {
    "name": "ipython",
    "version": 3
   },
   "file_extension": ".py",
   "mimetype": "text/x-python",
   "name": "python",
   "nbconvert_exporter": "python",
   "pygments_lexer": "ipython3",
   "version": "3.10.6"
  }
 },
 "nbformat": 4,
 "nbformat_minor": 5
}
